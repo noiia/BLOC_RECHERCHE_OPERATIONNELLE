{
 "cells": [
  {
   "cell_type": "markdown",
   "id": "69fe235d",
   "metadata": {},
   "source": [
    "# Modélisation du problème - Projet Green Graph\n",
    "*Equipe CesiCDP - Chef de projet : Leila | Opérateurs : Tom, Edwin*</br>\n",
    "## Sommaire :\n",
    "    1. Introduction\n",
    "    2. Définition du problème \n",
    "        2.1. Description du problème de tournée de livraison\n",
    "        2.2. Objectifs d’optimisation\n",
    "    3. Modélisation formelle\n",
    "        3.1. Hypothèses générales\n",
    "        3.2. Représentation mathématique du réseau\n",
    "        3.3. Présentation des contraintes supplémentaires retenues\n",
    "        3.4. Représentation formelle des contraintes choisies\n",
    "    4. Analyse de la complexité\n",
    "        4.1. Classification du problème\n",
    "        4.2. Impact des contraintes supplémentaires sur la complexité\n",
    "    5. Plan de Travail et Organisation du Projet\n",
    "        5.1. Étapes prévues \n",
    "        5.2. Répartition des tâches dans l’équipe\n",
    "        5.3. Outils utilisés \n",
    "    6. Conclusion\n",
    "    7. Annexes\n",
    "        7.1. Glossaire des termes techniques\n",
    "        7.2. Références bibliographiques"
   ]
  },
  {
   "cell_type": "markdown",
   "id": "c757c557",
   "metadata": {},
   "source": [
    "### 1. Introduction\n",
    "\n",
    "L'ADEME  (Agence de l’Environnement et de la Maîtrise de l’Energie) cherche à optimiser la tournée de ses transports en commun afin de réduire ses coûts financiers et son bilan carbone.\n",
    "#### Problématique\n",
    "Comment résoudre un problème de logistique s’apparentant au problème du voyageur de commerce, prenant en compte des contraintes supplémentaires ?\n",
    "\n",
    "#### Contraites\n",
    "| Importance | Description |\n",
    "| ----------- | ----------- |\n",
    "| Haute | Réduire au maximum la pollution émise par les véhicules |\n",
    "| Haute | Optimiser les coûts |"
   ]
  },
  {
   "cell_type": "markdown",
   "id": "398a6f6d",
   "metadata": {},
   "source": [
    "### 2. Définition du problème\n",
    "##### 2.1 Description du problème de tournée de livraison\n",
    "##### 2.2. Objectifs d’optimisation"
   ]
  },
  {
   "cell_type": "markdown",
   "id": "ec4a7404",
   "metadata": {},
   "source": [
    "### 3. Modélisation formelle\n",
    "##### 3.1. Hypothèses générales\n",
    "##### 3.2. Représentation mathématique du réseau\n",
    "Le réseau routier francais peut etre representer par un graph ponderé connexe et complet G = (V,E) V representant chacunes des villes francaises et E les routes entre chacunes de ses villes. La ponderation de chaque arretes entre deux sommet A & B et realisé grâce à la formule suivante : (A définir)\n",
    "##### 3.3. Présentation des contraintes supplémentaires retenues\n",
    "##### 3.4. Représentation formelle des contraintes choisies"
   ]
  },
  {
   "cell_type": "markdown",
   "id": "6aa48521",
   "metadata": {},
   "source": [
    "### 4. Analyse de la complexité\n",
    "Notre probleme du voyageur de commerce avancée peut etre representer par un graph ponderé connexe et complet G = (V,E). De ce fais nous pouvons le réduire à un \n",
    "##### 4.1. Classification du problème\n",
    "##### 4.2. Impact des contraintes supplémentaires sur la complexité"
   ]
  },
  {
   "cell_type": "markdown",
   "id": "d856fa45",
   "metadata": {},
   "source": [
    "### 5. Plan de Travail et Organisation du Projet\n",
    "##### 5.1. Étapes prévues \n",
    "##### 5.2. Répartition des tâches dans l’équipe\n",
    "##### 5.3. Outils utilisés "
   ]
  },
  {
   "cell_type": "markdown",
   "id": "0dc81c2e",
   "metadata": {},
   "source": [
    "### 6. Conclusion"
   ]
  },
  {
   "cell_type": "markdown",
   "id": "f2e9cf69",
   "metadata": {},
   "source": [
    "### 7. Annexes\n",
    "##### 7.1. Glossaire des termes techniques\n",
    "##### 7.2. Références bibliographiques"
   ]
  },
  {
   "cell_type": "markdown",
   "id": "7047559e",
   "metadata": {},
   "source": [
    "### 5. Données de Test\n",
    "Pour répondre à ce probleme nous utiliserons les villes de france obtenu grace à World City DB , "
   ]
  },
  {
   "cell_type": "code",
   "execution_count": 4,
   "id": "c0f3a82f",
   "metadata": {},
   "outputs": [],
   "source": [
    "import requests\n",
    "import json\n",
    "from geopy.geocoders import Nominatim\n",
    "\n",
    "def geocode_city(city_name):\n",
    "    \"\"\"Converts a city name to coordinates (latitude, longitude)\"\"\"\n",
    "    geolocator = Nominatim(user_agent=\"routing_app\")\n",
    "    location = geolocator.geocode(city_name)\n",
    "    \n",
    "    if location:\n",
    "        return (location.latitude, location.longitude)\n",
    "    else:\n",
    "        raise ValueError(f\"Unable to find coordinates for {city_name}\")\n",
    "\n",
    "def calculate_travel_time(departure_city, arrival_city, mode=\"driving\"):\n",
    "    \"\"\"\n",
    "    Calculates travel time between two cities using the OSRM API\n",
    "    \n",
    "    Args:\n",
    "        departure_city (str): Name of the departure city\n",
    "        arrival_city (str): Name of the arrival city\n",
    "        mode (str): Transportation mode (driving, cycling, walking)\n",
    "        \n",
    "    Returns:\n",
    "        tuple: (time in seconds, distance in meters, formatted time)\n",
    "    \"\"\"\n",
    "    # Get city coordinates\n",
    "    try:\n",
    "        lat1, lon1 = geocode_city(departure_city)\n",
    "        lat2, lon2 = geocode_city(arrival_city)\n",
    "    except ValueError as e:\n",
    "        return (None, None, str(e))\n",
    "    \n",
    "    # Building the URL for the OSRM API\n",
    "    url = f\"http://router.project-osrm.org/route/v1/{mode}/{lon1},{lat1};{lon2},{lat2}\"\n",
    "    params = {\n",
    "        \"overview\": \"false\",\n",
    "        \"alternatives\": \"false\",\n",
    "    }\n",
    "    \n",
    "    # Call to the OSRM API\n",
    "    response = requests.get(url, params=params)\n",
    "    \n",
    "    if response.status_code != 200:\n",
    "        return (None, None, f\"Error during API call: {response.status_code}\")\n",
    "    \n",
    "    data = response.json()\n",
    "    \n",
    "    if data[\"code\"] != \"Ok\":\n",
    "        return (None, None, f\"OSRM API error: {data['code']}\")\n",
    "    \n",
    "    # Extracting time and distance information\n",
    "    route = data[\"routes\"][0]\n",
    "    duration_seconds = route[\"duration\"]\n",
    "    distance_meters = route[\"distance\"]\n",
    "    \n",
    "    # Formatting time for display\n",
    "    hours, remainder = divmod(duration_seconds, 3600)\n",
    "    minutes, seconds = divmod(remainder, 60)\n",
    "    \n",
    "    formatted_time = \"\"\n",
    "    if hours > 0:\n",
    "        formatted_time += f\"{int(hours)} hour{'s' if hours > 1 else ''} \"\n",
    "    if minutes > 0:\n",
    "        formatted_time += f\"{int(minutes)} minute{'s' if minutes > 1 else ''}\"\n",
    "    \n",
    "    return (duration_seconds, distance_meters, formatted_time.strip())\n",
    "\n",
    "def display_route(departure_city, arrival_city, mode=\"driving\"):\n",
    "    \"\"\"Displays route information between two cities\"\"\"\n",
    "    modes = {\n",
    "        \"driving\": \"by car\",\n",
    "        \"cycling\": \"by bicycle\",\n",
    "        \"walking\": \"on foot\"\n",
    "    }\n",
    "    \n",
    "    duration, distance, message = calculate_travel_time(departure_city, arrival_city, mode)\n",
    "    \n",
    "    if duration is None:\n",
    "        print(message)\n",
    "        return\n",
    "    \n",
    "    print(f\"Route from {departure_city} to {arrival_city} {modes.get(mode, '')}:\")\n",
    "    print(f\"Travel time: {message}\")\n",
    "    print(f\"Distance: {distance/1000:.1f} km\")\n",
    "\n"
   ]
  },
  {
   "cell_type": "markdown",
   "id": "3998430a",
   "metadata": {},
   "source": []
  },
  {
   "cell_type": "code",
   "execution_count": 5,
   "id": "69900ff1",
   "metadata": {},
   "outputs": [
    {
     "name": "stdout",
     "output_type": "stream",
     "text": [
      "Route from Reims to Paris by car:\n",
      "Travel time: 1 hour 40 minutes\n",
      "Distance: 144.0 km\n",
      "None\n"
     ]
    }
   ],
   "source": [
    "print(display_route(\"Reims\", \"Paris\", \"driving\"))"
   ]
  },
  {
   "cell_type": "code",
   "execution_count": null,
   "id": "2e4ae18a",
   "metadata": {},
   "outputs": [],
   "source": []
  }
 ],
 "metadata": {
  "kernelspec": {
   "display_name": ".venv",
   "language": "python",
   "name": "python3"
  },
  "language_info": {
   "codemirror_mode": {
    "name": "ipython",
    "version": 3
   },
   "file_extension": ".py",
   "mimetype": "text/x-python",
   "name": "python",
   "nbconvert_exporter": "python",
   "pygments_lexer": "ipython3",
   "version": "3.11.9"
  }
 },
 "nbformat": 4,
 "nbformat_minor": 5
}

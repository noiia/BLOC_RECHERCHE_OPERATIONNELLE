{
 "cells": [
  {
   "cell_type": "markdown",
   "id": "69fe235d",
   "metadata": {},
   "source": [
    "# Modélisation du problème - Projet Green Graph\n",
    "*Equipe CesiCDP - Chef de projet : Leila | Opérateurs : Tom, Edwin*</br>\n",
    "## Sommaire :\n",
    "    1. Introduction\n",
    "    2. Définition du problème \n",
    "        2.1. Description du problème de tournée de livraison\n",
    "        2.2. Objectifs d’optimisation\n",
    "    3. Modélisation formelle\n",
    "        3.1. Hypothèses générales\n",
    "        3.2. Représentation mathématique du réseau\n",
    "        3.3. Présentation des contraintes supplémentaires retenues\n",
    "        3.4. Représentation formelle des contraintes choisies\n",
    "    4. Analyse de la complexité\n",
    "        4.1. Classification du problème\n",
    "        4.2. Impact des contraintes supplémentaires sur la complexité\n",
    "    5. Plan de Travail et Organisation du Projet\n",
    "        5.1. Étapes prévues \n",
    "        5.2. Répartition des tâches dans l’équipe\n",
    "        5.3. Outils utilisés \n",
    "    6. Conclusion\n",
    "    7. Annexes\n",
    "        7.1. Glossaire des termes techniques\n",
    "        7.2. Références bibliographiques"
   ]
  },
  {
   "cell_type": "markdown",
   "id": "c757c557",
   "metadata": {},
   "source": [
    "### 1. Introduction\n",
    "\n",
    "Depuis les années 90, la question environnementale s'est imposé comme une priorité mondiale. Réduction de la consommation d’énergie, diminution des émissions de gaz à effet de serre, développement des mobilités durables… de nombreux objectifs ont été fixés, notamment via des accords internationaux (Protocole de Kyoto, Accords de Paris) et des politiques nationales.\n",
    "\n",
    "Dans ce cadre, L'ADEME  (Agence de l’Environnement et de la Maîtrise de l’Energie) avec la collaboration de CesiCDP, cherche à optimiser la tournée de ses transports en commun afin de réduire ses coûts financiers et son bilan carbone.\n",
    "\n",
    "Comment concevoir une tournée de livraison sur un réseau routier reliant plusieurs points, de manière à minimiser la consommation (temps, distance, carburant), tout en respectant certaines contraintes opérationnelles (capacités des véhicules, horaires de livraison, etc.) ?\n",
    "\n",
    "Ce problème s’apparentant au problème du voyageur de commerce, est connu pour sa complexité algorithmique. Cependant, il est applicable à de nombreux domaines logistiques (livraison de colis, gestion des déchets, interventions technique, etc.).    \n",
    "Les résultats obtenus pourront être adaptés à différentes tailles de réseau et différents types de territoires (urbain, rural).\n",
    "\n",
    "L'objectif sera de proposer dans un premier temps une modélisation formelle du problème avec des représentations mathématiques et une analyse de la complexité.   \n",
    "Par la suite une implémentation des algorithmes avec une démonstration du fonctionnement de celle-ci sur différents cas de test.   \n",
    "On terminera par une étude expérimentale de nos solutions qui mettra en évidence les perfomances et les limitations de nos algorithmes ainsi qu'une perspective d'amélioration basé sur notre analyse.\n",
    "\n",
    "#### Contraintes\n",
    "| Importance | Description |\n",
    "| ----------- | ----------- |\n",
    "| Haute | Réduire au maximum la pollution émise par les véhicules |\n",
    "| Haute | Optimiser les coûts de circulation (éviter les routes payantes, les voies rapides) |\n",
    "| Haute | Temps de calcul faible |\n",
    "| Haute | Economie de ressources durant la génération de l'itinéraire |\n",
    "| Haute | Dépendance entre les visites |"
   ]
  },
  {
   "cell_type": "markdown",
   "id": "398a6f6d",
   "metadata": {},
   "source": [
    "### 2. Définition du problème\n",
    "##### 2.1 Description du problème de tournée de livraison\n",
    "Une tournée de livraison telle que nous l'entendons fait appel au probléme du voyageur de commerce, c'est à dire que nous recherchons en un minimum de temps un itinéraire permettant de repasser sur le moins de noeuds et d'arêtes possible. Dans le cadre du projet, nous devons ajouter à ce problème des contraites telles que le coup de passage sur certaines arêtes (ex: autoroutes) ou encore la dépendance entre les visites (Une ville ne peut être visitée qu'après en avoir visité une autre, une livraison doit précéder une collecte).\n",
    "##### 2.2. Objectifs d’optimisation\n",
    "Afin d'optimiser la consommation de carburant et de réduire les coûts, notre équipe a pour objectif de mettre en place un algorithme qui prendra en compte les deux contraintes présentées ci-dessus tout en choisissant un chemin le plus court possible. Nous avons défini deux algorithmes de path finding, l'algorithmes de A* et un algorithme génétique. "
   ]
  },
  {
   "cell_type": "markdown",
   "id": "ec4a7404",
   "metadata": {},
   "source": [
    "### 3. Modélisation formelle\n",
    "##### 3.1. Hypothèses générales\n",
    "##### 3.2. Représentation mathématique du réseau\n",
    "Le réseau routier francais peut être représenté par un graphe pondéré connexe et complet $G = (V,E) V$ représentant chacune des villes francaises et $E$ les routes entre chacune de ces villes. La pondération de chaque arêtes entre deux sommets $A$ & $B$ et réalisée grâce à la formule suivante : (A définir)\n",
    "##### 3.3. Présentation des contraintes supplémentaires retenues\n",
    "##### 3.4. Représentation formelle des contraintes choisies"
   ]
  },
  {
   "cell_type": "markdown",
   "id": "6aa48521",
   "metadata": {},
   "source": [
    "### 4. Analyse de la complexité\n",
    "\n",
    "##### 4.1. Classification du problème\n",
    "##### **Démonstration de la NP-Complétude du Problème du Voyageur de Commerce (TSP)**\n",
    "\n",
    "##### **Construction de l'instance de TSP**\n",
    "Soit $(I_{CH})$ une instance du Cycle Hamiltonien sur un graphe $(G = (V, E))$. Nous construisons une instance $(I_{TSP})$ de TSP comme suit :\n",
    "1. **Graphe $(G' = (V, E'))$** : \n",
    "   - $(E')$ contient toutes les arêtes de $(G)$ avec un coût de **1**.\n",
    "   - Les arêtes absentes de $(G)$ (i.e., celles de son complément $(\\overline{G})$) sont ajoutées à $(E')$ avec un coût de **2**.\n",
    "2. **Valeur $(k = |V|)$** : La longueur maximale autorisée pour le cycle TSP est fixée à $(|V|)$.\n",
    "\n",
    "Cette construction s'effectue en temps polynomial (en $(O(|V|^2))$).\n",
    "\n",
    "##### **Réduction et Preuve d'Équivalence**\n",
    "1. **Si $(G)$ a un Cycle Hamiltonien** :\n",
    "   - Ce cycle utilise exactement $(|V|)$ arêtes de $(G)$, toutes de coût **1**.\n",
    "   - Dans $(I_{TSP})$, ce cycle correspond à un circuit de coût total $(|V|)$, répondant \"oui\" à $(I_{TSP})$.\n",
    "\n",
    "2. **Si $(I_{TSP})$ répond \"oui\"** :\n",
    "   - Le circuit TSP a un coût $(\\leq |V|)$. Comme les arêtes de $(\\overline{G})$ coûtent **2**, le circuit ne peut en utiliser aucune (sinon le coût total dépasserait $(|V|)$).\n",
    "   - Le circuit utilise donc uniquement des arêtes de $(G)$, formant un Cycle Hamiltonien dans $(G)$.\n",
    "\n",
    "3. **Si $(G)$ n'a pas de Cycle Hamiltonien** :\n",
    "   - Tout circuit TSP dans $(G')$ doit utiliser au moins une arête de $(\\overline{G})$, ce qui entraîne un coût $(\\geq |V| + 1)$.\n",
    "   - $(I_{TSP})$ répond donc \"non\".\n",
    "\n",
    "\n",
    "##### **Conclusion**\n",
    "- **TSP est NP-Difficile** : Toute instance de HC (NP-Complet) se réduit polynomialement à TSP.\n",
    "\n",
    "Ainsi, TSP appartient à la classe **NP-Complet**. Cette réduction exploite la structure des coûts dans $( G')$ en liant le probleme du  Cycle Hamiltonien à une solution optimale de TSP.\n",
    "##### 4.2. Impact des contraintes supplémentaires sur la complexité"
   ]
  },
  {
   "cell_type": "markdown",
   "id": "d856fa45",
   "metadata": {},
   "source": [
    "### 5. Plan de Travail et Organisation du Projet\n",
    "##### 5.1. Étapes prévues \n",
    "| Date de livraison | Description |\n",
    "| ----------- | ----------- |\n",
    "| **09/04/2025 - 15/04/2025** | **Livrable 1** |\n",
    "| 09/04/2025 - 09/04/2025 | Reformulation de la problématique |\n",
    "| 09/04/2025 - 12/04/2025 | Calcul de complexité |\n",
    "| 10/04/2025 - 14/04/2025 | Représentation formelle des données |\n",
    "| 10/04/2025 - 12/04/2025 | Représentation formelle des problèmes |\n",
    "| 13/04/2025 - 15/04/2025 | Représentation formelle des objectifs à optimiser |\n",
    "| **15/04/2025 - 28/04/2025** | **Livrable 2** |\n",
    "| 15/04/2025 - 28/04/2025 | Mise à jour de la modélisation du livrable 1  |\n",
    "| 15/04/2025 - 16/04/2025 | Décrit les méthodes de résolution choisies : détails sur les algorithmes utilisés |\n",
    "| 15/04/2025 - 17/04/2025 | L’implémentation de ces algorithmes |\n",
    "| 16/04/2025 - 18/04/2025 | Etude expérimentale : Plan d'expérience |\n",
    "| 18/04/2025 - 19/04/2025 | Etude expérimentale : benchmarks |\n",
    "| 20/04/2025 - 24/04/2025 | Etude expérimentale : limitations / améliorations possibles |\n",
    "\n",
    "##### 5.2. Outils utilisés \n",
    "- VSCode\n",
    "- Jupyter notebook\n",
    "- Git/Github\n",
    "- Office\n",
    "- pandoc\n",
    "\n",
    "Langages et librairies : \n",
    "- Python 3.12\n",
    "- Package de lib pour OpenStreetMap\n",
    "- matplotlib\n",
    "- numpy\n",
    "- ipywidgets"
   ]
  },
  {
   "cell_type": "markdown",
   "id": "0dc81c2e",
   "metadata": {},
   "source": [
    "### 6. Conclusion"
   ]
  },
  {
   "cell_type": "markdown",
   "id": "f2e9cf69",
   "metadata": {},
   "source": [
    "### 7. Annexes\n",
    "##### 7.1. Glossaire des termes techniques\n",
    "- **Chemin Hamiltonien** : Un chemin hamiltonien est un chemin passant par tous les sommets d'un graphe sans repasser sur les arêtes.\n",
    "- **Cycle Hamiltonien** : Un cycle hamiltonien est un chemin hamiltonien faisant un cycle.\n",
    "- **Graphe pondéré** : Un graphe pondéré possède une pondération sur ses arêtes permettant de statuer de leur valeur.\n",
    "- **Graphe connexe** : un graphe est connexe lorsque tous ses sommets sont reliés par des arêtes et forment un seul corps. \n",
    "- **Graphe complet** : Un graphe complet possède des arêtes pour chacun de ses sommets, les reliants à tous les autres sommets du graphe.\n",
    "- **Degré** : le degré d'un sommet correspond au nombre d'arêtes connectées à celui-ci.\n",
    "- **Ordre** : L'ordre d'un graphe est son nombre de sommets.\n",
    "- **NP, NP-Difficile, NP-Complet** : En informatique théorique, et plus précisément en théorie de la complexité, une classe de complexité est un ensemble de problèmes algorithmiques dont la résolution nécessite la même quantité d'une certaine ressource.\n",
    "##### 7.2. Références bibliographiques"
   ]
  },
  {
   "cell_type": "markdown",
   "id": "7047559e",
   "metadata": {},
   "source": [
    "### 8. Données de Test\n",
    "Pour répondre à ce problème nous utiliserons les villes de france obtenu grâce à World City DB. "
   ]
  },
  {
   "cell_type": "code",
   "execution_count": 11,
   "id": "c0f3a82f",
   "metadata": {},
   "outputs": [
    {
     "ename": "ModuleNotFoundError",
     "evalue": "No module named 'requests'",
     "output_type": "error",
     "traceback": [
      "\u001b[31m---------------------------------------------------------------------------\u001b[39m",
      "\u001b[31mModuleNotFoundError\u001b[39m                       Traceback (most recent call last)",
      "\u001b[36mCell\u001b[39m\u001b[36m \u001b[39m\u001b[32mIn[11]\u001b[39m\u001b[32m, line 1\u001b[39m\n\u001b[32m----> \u001b[39m\u001b[32m1\u001b[39m \u001b[38;5;28;01mimport\u001b[39;00m\u001b[38;5;250m \u001b[39m\u001b[34;01mrequests\u001b[39;00m\n\u001b[32m      2\u001b[39m \u001b[38;5;28;01mimport\u001b[39;00m\u001b[38;5;250m \u001b[39m\u001b[34;01mjson\u001b[39;00m\n\u001b[32m      3\u001b[39m \u001b[38;5;28;01mfrom\u001b[39;00m\u001b[38;5;250m \u001b[39m\u001b[34;01mgeopy\u001b[39;00m\u001b[34;01m.\u001b[39;00m\u001b[34;01mgeocoders\u001b[39;00m\u001b[38;5;250m \u001b[39m\u001b[38;5;28;01mimport\u001b[39;00m Nominatim\n",
      "\u001b[31mModuleNotFoundError\u001b[39m: No module named 'requests'"
     ]
    }
   ],
   "source": [
    "import requests\n",
    "import json\n",
    "from geopy.geocoders import Nominatim\n",
    "\n",
    "def geocode_city(city_name):\n",
    "    \"\"\"Converts a city name to coordinates (latitude, longitude)\"\"\"\n",
    "    geolocator = Nominatim(user_agent=\"routing_app\")\n",
    "    location = geolocator.geocode(city_name)\n",
    "    \n",
    "    if location:\n",
    "        return (location.latitude, location.longitude)\n",
    "    else:\n",
    "        raise ValueError(f\"Unable to find coordinates for {city_name}\")\n",
    "\n",
    "def calculate_travel_time(departure_city, arrival_city, mode=\"driving\"):\n",
    "    \"\"\"\n",
    "    Calculates travel time between two cities using the OSRM API\n",
    "    \n",
    "    Args:\n",
    "        departure_city (str): Name of the departure city\n",
    "        arrival_city (str): Name of the arrival city\n",
    "        mode (str): Transportation mode (driving, cycling, walking)\n",
    "        \n",
    "    Returns:\n",
    "        tuple: (time in seconds, distance in meters, formatted time)\n",
    "    \"\"\"\n",
    "    # Get city coordinates\n",
    "    try:\n",
    "        lat1, lon1 = geocode_city(departure_city)\n",
    "        lat2, lon2 = geocode_city(arrival_city)\n",
    "    except ValueError as e:\n",
    "        return (None, None, str(e))\n",
    "    \n",
    "    # Building the URL for the OSRM API\n",
    "    url = f\"http://router.project-osrm.org/route/v1/{mode}/{lon1},{lat1};{lon2},{lat2}\"\n",
    "    params = {\n",
    "        \"overview\": \"false\",\n",
    "        \"alternatives\": \"false\",\n",
    "    }\n",
    "    \n",
    "    # Call to the OSRM API\n",
    "    response = requests.get(url, params=params)\n",
    "    \n",
    "    if response.status_code != 200:\n",
    "        return (None, None, f\"Error during API call: {response.status_code}\")\n",
    "    \n",
    "    data = response.json()\n",
    "    \n",
    "    if data[\"code\"] != \"Ok\":\n",
    "        return (None, None, f\"OSRM API error: {data['code']}\")\n",
    "    \n",
    "    # Extracting time and distance information\n",
    "    route = data[\"routes\"][0]\n",
    "    duration_seconds = route[\"duration\"]\n",
    "    distance_meters = route[\"distance\"]\n",
    "    \n",
    "    # Formatting time for display\n",
    "    hours, remainder = divmod(duration_seconds, 3600)\n",
    "    minutes, seconds = divmod(remainder, 60)\n",
    "    \n",
    "    formatted_time = \"\"\n",
    "    if hours > 0:\n",
    "        formatted_time += f\"{int(hours)} hour{'s' if hours > 1 else ''} \"\n",
    "    if minutes > 0:\n",
    "        formatted_time += f\"{int(minutes)} minute{'s' if minutes > 1 else ''}\"\n",
    "    \n",
    "    return (duration_seconds, distance_meters, formatted_time.strip())\n",
    "\n",
    "def display_route(departure_city, arrival_city, mode=\"driving\"):\n",
    "    \"\"\"Displays route information between two cities\"\"\"\n",
    "    modes = {\n",
    "        \"driving\": \"by car\",\n",
    "        \"cycling\": \"by bicycle\",\n",
    "        \"walking\": \"on foot\"\n",
    "    }\n",
    "    \n",
    "    duration, distance, message = calculate_travel_time(departure_city, arrival_city, mode)\n",
    "    \n",
    "    if duration is None:\n",
    "        print(message)\n",
    "        return\n",
    "    \n",
    "    print(f\"Route from {departure_city} to {arrival_city} {modes.get(mode, '')}:\")\n",
    "    print(f\"Travel time: {message}\")\n",
    "    print(f\"Distance: {distance/1000:.1f} km\")\n",
    "\n"
   ]
  },
  {
   "cell_type": "markdown",
   "id": "3998430a",
   "metadata": {},
   "source": []
  },
  {
   "cell_type": "code",
   "execution_count": null,
   "id": "69900ff1",
   "metadata": {},
   "outputs": [
    {
     "name": "stdout",
     "output_type": "stream",
     "text": [
      "Route from Reims to Paris by car:\n",
      "Travel time: 1 hour 40 minutes\n",
      "Distance: 144.0 km\n",
      "None\n"
     ]
    }
   ],
   "source": [
    "print(display_route(\"Reims\", \"Paris\", \"driving\"))"
   ]
  },
  {
   "cell_type": "code",
   "execution_count": null,
   "id": "2e4ae18a",
   "metadata": {},
   "outputs": [],
   "source": []
  }
 ],
 "metadata": {
  "kernelspec": {
   "display_name": "venv_prosit_1",
   "language": "python",
   "name": "python3"
  },
  "language_info": {
   "codemirror_mode": {
    "name": "ipython",
    "version": 3
   },
   "file_extension": ".py",
   "mimetype": "text/x-python",
   "name": "python",
   "nbconvert_exporter": "python",
   "pygments_lexer": "ipython3",
   "version": "3.12.5"
  }
 },
 "nbformat": 4,
 "nbformat_minor": 5
}

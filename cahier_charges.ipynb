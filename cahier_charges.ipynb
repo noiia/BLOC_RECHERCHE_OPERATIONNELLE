{
 "cells": [
  {
   "cell_type": "markdown",
   "id": "69fe235d",
   "metadata": {},
   "source": [
    "# Modélisation du problème - Projet Green Graph\n",
    "*Equipe CesiCDP - Chef de projet : Leila | Opérateurs : Tom, Edwin*</br>\n",
    "## Sommaire :\n",
    "    1. Introduction\n",
    "    2. Définition du problème \n",
    "        2.1. Description du problème de tournée de livraison\n",
    "        2.2. Objectifs d’optimisation\n",
    "    3. Modélisation formelle\n",
    "        3.1. Hypothèses générales\n",
    "        3.2. Représentation mathématique du réseau\n",
    "        3.3. Présentation des contraintes supplémentaires retenues\n",
    "        3.4. Représentation formelle des contraintes choisies\n",
    "    4. Analyse de la complexité\n",
    "        4.1. Classification du problème\n",
    "        4.2. Impact des contraintes supplémentaires sur la complexité\n",
    "    5. Plan de Travail et Organisation du Projet\n",
    "        5.1. Étapes prévues \n",
    "        5.2. Répartition des tâches dans l’équipe\n",
    "        5.3. Outils utilisés \n",
    "    6. Conclusion\n",
    "    7. Annexes\n",
    "        7.1. Glossaire des termes techniques\n",
    "        7.2. Références bibliographiques"
   ]
  },
  {
   "cell_type": "markdown",
   "id": "c757c557",
   "metadata": {},
   "source": [
    "### 1. Introduction\n",
    "\n",
    "L'ADEME  (Agence de l’Environnement et de la Maîtrise de l’Energie) cherche à optimiser la tournée de ses transports en commun afin de réduire ses coûts financiers et son bilan carbone.\n",
    "#### Problématique\n",
    "Comment résoudre un problème de logistique s’apparentant au problème du voyageur de commerce, prenant en compte des contraintes supplémentaires ?\n",
    "\n",
    "#### Contraites\n",
    "| Importance | Description |\n",
    "| ----------- | ----------- |\n",
    "| Haute | Réduire au maximum la pollution émise par les véhicules |\n",
    "| Haute | Optimiser les coûts |"
   ]
  },
  {
   "cell_type": "markdown",
   "id": "398a6f6d",
   "metadata": {},
   "source": [
    "### 2. Définition du problème\n",
    "##### 2.1 Description du problème de tournée de livraison\n",
    "Une tournée de livraison telle que nous l'entendons fait appel au probléme du voyageur de commerce, c'est à dire que nous recherchons en un minimum de temps un itinéraire permettant de repasser sur le moins de noeuds et d'arêtes possible. Dans le cadre du projet, nous devons ajouter à ce problème des contraites telles que le coup de passage sur certaines arêtes (ex: autoroutes) ou encore la dépendance entre les visites (Une ville ne peut être visitée qu'après en avoir visité une autre, une livraison doit précéder une collecte).\n",
    "##### 2.2. Objectifs d’optimisation\n",
    "Afin d'optimiser la consommation de carburant et de réduire les coûts, notre équipe a pour objectif de mettre en place un algorithme qui prendra en compte les deux contraintes présentées ci-dessus tout en choisissant un chemin le plus court possible. Nous avons défini deux algorithmes de path finding, l'algorithmes de A* et un algorithme génétique. "
   ]
  },
  {
   "cell_type": "markdown",
   "id": "ec4a7404",
   "metadata": {},
   "source": [
    "### 3. Modélisation formelle\n",
    "##### 3.1. Hypothèses générales\n",
    "##### 3.2. Représentation mathématique du réseau\n",
    "##### 3.3. Présentation des contraintes supplémentaires retenues\n",
    "##### 3.4. Représentation formelle des contraintes choisies"
   ]
  },
  {
   "cell_type": "markdown",
   "id": "6aa48521",
   "metadata": {},
   "source": [
    "### 4. Analyse de la complexité\n",
    "##### 4.1. Classification du problème\n",
    "##### 4.2. Impact des contraintes supplémentaires sur la complexité"
   ]
  },
  {
   "cell_type": "markdown",
   "id": "d856fa45",
   "metadata": {},
   "source": [
    "### 5. Plan de Travail et Organisation du Projet\n",
    "##### 5.1. Étapes prévues \n",
    "##### 5.2. Répartition des tâches dans l’équipe\n",
    "##### 5.3. Outils utilisés "
   ]
  },
  {
   "cell_type": "markdown",
   "id": "0dc81c2e",
   "metadata": {},
   "source": [
    "### 6. Conclusion"
   ]
  },
  {
   "cell_type": "markdown",
   "id": "f2e9cf69",
   "metadata": {},
   "source": [
    "### 7. Annexes\n",
    "##### 7.1. Glossaire des termes techniques\n",
    "##### 7.2. Références bibliographiques"
   ]
  },
  {
   "cell_type": "markdown",
   "id": "7047559e",
   "metadata": {},
   "source": [
    "### 5. Données de Test\n",
    "Pour répondre à ce probleme nous utiliserons les villes de france obtenu grace à World City DB , "
   ]
  },
  {
   "cell_type": "code",
   "execution_count": 1,
   "id": "c0f3a82f",
   "metadata": {},
   "outputs": [],
   "source": [
    "import requests\n",
    "import json\n",
    "from geopy.geocoders import Nominatim\n",
    "\n",
    "def geocode_ville(nom_ville):\n",
    "    \"\"\"Convertit le nom d'une ville en coordonnées (latitude, longitude)\"\"\"\n",
    "    geolocator = Nominatim(user_agent=\"routing_app\")\n",
    "    location = geolocator.geocode(nom_ville)\n",
    "    \n",
    "    if location:\n",
    "        return (location.latitude, location.longitude)\n",
    "    else:\n",
    "        raise ValueError(f\"Impossible de trouver les coordonnées pour {nom_ville}\")\n",
    "\n",
    "def calculer_temps_trajet(ville_depart, ville_arrivee, mode=\"driving\"):\n",
    "    \"\"\"\n",
    "    Calcule le temps de trajet entre deux villes en utilisant l'API OSRM\n",
    "    \n",
    "    Args:\n",
    "        ville_depart (str): Nom de la ville de départ\n",
    "        ville_arrivee (str): Nom de la ville d'arrivée\n",
    "        mode (str): Mode de transport (driving, cycling, walking)\n",
    "        \n",
    "    Returns:\n",
    "        tuple: (temps en secondes, distance en mètres, temps formaté)\n",
    "    \"\"\"\n",
    "    # Obtenir les coordonnées des villes\n",
    "    try:\n",
    "        lat1, lon1 = geocode_ville(ville_depart)\n",
    "        lat2, lon2 = geocode_ville(ville_arrivee)\n",
    "    except ValueError as e:\n",
    "        return (None, None, str(e))\n",
    "    \n",
    "    # Construction de l'URL pour l'API OSRM\n",
    "    url = f\"http://router.project-osrm.org/route/v1/{mode}/{lon1},{lat1};{lon2},{lat2}\"\n",
    "    params = {\n",
    "        \"overview\": \"false\",\n",
    "        \"alternatives\": \"false\",\n",
    "    }\n",
    "    \n",
    "    # Appel à l'API OSRM\n",
    "    response = requests.get(url, params=params)\n",
    "    \n",
    "    if response.status_code != 200:\n",
    "        return (None, None, f\"Erreur lors de l'appel à l'API: {response.status_code}\")\n",
    "    \n",
    "    data = response.json()\n",
    "    \n",
    "    if data[\"code\"] != \"Ok\":\n",
    "        return (None, None, f\"Erreur de l'API OSRM: {data['code']}\")\n",
    "    \n",
    "    # Extraction des informations de temps et de distance\n",
    "    route = data[\"routes\"][0]\n",
    "    duree_secondes = route[\"duration\"]\n",
    "    distance_metres = route[\"distance\"]\n",
    "    \n",
    "    # Formatage du temps pour l'affichage\n",
    "    heures, reste = divmod(duree_secondes, 3600)\n",
    "    minutes, secondes = divmod(reste, 60)\n",
    "    \n",
    "    temps_formate = \"\"\n",
    "    if heures > 0:\n",
    "        temps_formate += f\"{int(heures)} heure{'s' if heures > 1 else ''} \"\n",
    "    if minutes > 0:\n",
    "        temps_formate += f\"{int(minutes)} minute{'s' if minutes > 1 else ''}\"\n",
    "    \n",
    "    return (duree_secondes, distance_metres, temps_formate.strip())\n",
    "\n",
    "def afficher_itineraire(ville_depart, ville_arrivee, mode=\"driving\"):\n",
    "    \"\"\"Affiche les informations d'itinéraire entre deux villes\"\"\"\n",
    "    modes = {\n",
    "        \"driving\": \"en voiture\",\n",
    "        \"cycling\": \"à vélo\",\n",
    "        \"walking\": \"à pied\"\n",
    "    }\n",
    "    \n",
    "    duree, distance, message = calculer_temps_trajet(ville_depart, ville_arrivee, mode)\n",
    "    \n",
    "    if duree is None:\n",
    "        print(message)\n",
    "        return\n",
    "    \n",
    "    print(f\"Itinéraire de {ville_depart} à {ville_arrivee} {modes.get(mode, '')}:\")\n",
    "    print(f\"Temps de trajet: {message}\")\n",
    "    print(f\"Distance: {distance/1000:.1f} km\")\n"
   ]
  },
  {
   "cell_type": "markdown",
   "id": "3998430a",
   "metadata": {},
   "source": []
  },
  {
   "cell_type": "code",
   "execution_count": 4,
   "id": "69900ff1",
   "metadata": {},
   "outputs": [
    {
     "name": "stdout",
     "output_type": "stream",
     "text": [
      "Itinéraire de Reims à Paris en voiture:\n",
      "Temps de trajet: 1 heure 40 minutes\n",
      "Distance: 144.0 km\n",
      "None\n"
     ]
    }
   ],
   "source": [
    "print(afficher_itineraire(\"Reims\", \"Paris\", \"driving\"))"
   ]
  },
  {
   "cell_type": "code",
   "execution_count": 3,
   "id": "2e4ae18a",
   "metadata": {},
   "outputs": [],
   "source": [
    "def decimal_to_hms(decimal_hours):\n",
    "    hours = int(decimal_hours)\n",
    "    minutes_float = (decimal_hours - hours) * 60\n",
    "    minutes = int(minutes_float)\n",
    "    seconds = round((minutes_float - minutes) * 60)\n",
    "    return hours, minutes, seconds"
   ]
  }
 ],
 "metadata": {
  "kernelspec": {
   "display_name": ".venv",
   "language": "python",
   "name": "python3"
  },
  "language_info": {
   "codemirror_mode": {
    "name": "ipython",
    "version": 3
   },
   "file_extension": ".py",
   "mimetype": "text/x-python",
   "name": "python",
   "nbconvert_exporter": "python",
   "pygments_lexer": "ipython3",
   "version": "3.11.9"
  }
 },
 "nbformat": 4,
 "nbformat_minor": 5
}

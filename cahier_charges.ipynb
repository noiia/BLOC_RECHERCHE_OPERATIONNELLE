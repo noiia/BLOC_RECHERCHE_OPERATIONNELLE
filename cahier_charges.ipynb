{
 "cells": [
  {
   "cell_type": "markdown",
   "id": "69fe235d",
   "metadata": {},
   "source": [
    "# Cahier des charges - Projet Green Graph\n",
    "*Equipe CesiCDP - Chef de projet : Leila | Opérateurs : Tom, Edwin*</br>\n",
    "## Sommaire :\n",
    "    1. Contexte\n",
    "    2. Problématique\n",
    "    3. Contraintes\n",
    "    4. Lexique\n"
   ]
  },
  {
   "cell_type": "markdown",
   "id": "c757c557",
   "metadata": {},
   "source": [
    "### 1. Contexte\n",
    "\n",
    "L'ADEME cherche à optimiser la tournée de ses transports en commun afin de réduire ses coûts financiers et son bilan carbone."
   ]
  },
  {
   "cell_type": "markdown",
   "id": "1b16e079",
   "metadata": {},
   "source": [
    "### 2. Problématique\n",
    "Comment résoudre un problème de logistique s’apparentant au problème du voyageur de commerce, prenant en compte des contraintes supplémentaires ?\n"
   ]
  },
  {
   "cell_type": "markdown",
   "id": "715126c8",
   "metadata": {},
   "source": [
    "### 3. Contraites\n",
    "| Importance | Description |\n",
    "| ----------- | ----------- |\n",
    "| Haute | Réduire au maximum la pollution émise par les véhicules |\n",
    "| Haute | Optimiser les coûts |"
   ]
  },
  {
   "cell_type": "markdown",
   "id": "269616f1",
   "metadata": {},
   "source": [
    "### 4. Lexique"
   ]
  },
  {
   "cell_type": "markdown",
   "id": "7047559e",
   "metadata": {},
   "source": [
    "### 5. Données de Test\n",
    "Pour répondre à ce probleme nous utiliserons les villes du monde (peut etre reduire) obtenu grace à World City DB , Les temps de trajet , prix du peage seront generé en utilisant l'api"
   ]
  },
  {
   "cell_type": "markdown",
   "id": "3998430a",
   "metadata": {},
   "source": []
  }
 ],
 "metadata": {
  "language_info": {
   "name": "python"
  }
 },
 "nbformat": 4,
 "nbformat_minor": 5
}

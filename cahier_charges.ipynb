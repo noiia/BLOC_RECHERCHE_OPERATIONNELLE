{
 "cells": [
  {
   "cell_type": "markdown",
   "id": "69fe235d",
   "metadata": {},
   "source": [
    "# Modélisation du problème - Projet Green Graph\n",
    "*Equipe CesiCDP - Chef de projet : Leila | Opérateurs : Tom, Edwin*</br>\n",
    "## Sommaire :\n",
    "    1. Introduction\n",
    "    2. Définition du problème \n",
    "        2.1. Description du problème de tournée de livraison\n",
    "        2.2. Objectifs d’optimisation\n",
    "    3. Modélisation formelle\n",
    "        3.1. Hypothèses générales\n",
    "        3.2. Représentation mathématique du réseau\n",
    "        3.3. Présentation des contraintes supplémentaires retenues\n",
    "        3.4. Représentation formelle des contraintes choisies\n",
    "    4. Analyse de la complexité\n",
    "        4.1. Classification du problème\n",
    "        4.2. Impact des contraintes supplémentaires sur la complexité\n",
    "    5. Plan de Travail et Organisation du Projet\n",
    "        5.1. Étapes prévues \n",
    "        5.2. Répartition des tâches dans l’équipe\n",
    "        5.3. Outils utilisés \n",
    "    6. Conclusion\n",
    "    7. Annexes\n",
    "        7.1. Glossaire des termes techniques\n",
    "        7.2. Références bibliographiques"
   ]
  },
  {
   "cell_type": "markdown",
   "id": "c757c557",
   "metadata": {},
   "source": [
    "### 1. Introduction\n",
    "\n",
    "L'ADEME  (Agence de l’Environnement et de la Maîtrise de l’Energie) cherche à optimiser la tournée de ses transports en commun afin de réduire ses coûts financiers et son bilan carbone.\n",
    "#### Problématique\n",
    "Comment résoudre un problème de logistique s’apparentant au problème du voyageur de commerce, prenant en compte des contraintes supplémentaires ?\n",
    "\n",
    "#### Contraites\n",
    "| Importance | Description |\n",
    "| ----------- | ----------- |\n",
    "| Haute | Réduire au maximum la pollution émise par les véhicules |\n",
    "| Haute | Optimiser les coûts |"
   ]
  },
  {
   "cell_type": "markdown",
   "id": "269616f1",
   "metadata": {},
   "source": [
    "### 2. Définition du problème\n",
    "##### 2.1 Description du problème de tournée de livraison\n",
    "##### 2.2. Objectifs d’optimisation"
   ]
  },
  {
   "cell_type": "markdown",
   "id": "ec4a7404",
   "metadata": {},
   "source": [
    "### 3. Modélisation formelle\n",
    "##### 3.1. Hypothèses générales\n",
    "##### 3.2. Représentation mathématique du réseau\n",
    "##### 3.3. Présentation des contraintes supplémentaires retenues\n",
    "##### 3.4. Représentation formelle des contraintes choisies"
   ]
  },
  {
   "cell_type": "markdown",
   "id": "6aa48521",
   "metadata": {},
   "source": [
    "### 4. Analyse de la complexité\n",
    "##### 4.1. Classification du problème\n",
    "##### 4.2. Impact des contraintes supplémentaires sur la complexité"
   ]
  },
  {
   "cell_type": "markdown",
   "id": "d856fa45",
   "metadata": {},
   "source": [
    "### 5. Plan de Travail et Organisation du Projet\n",
    "##### 5.1. Étapes prévues \n",
    "##### 5.2. Répartition des tâches dans l’équipe\n",
    "##### 5.3. Outils utilisés "
   ]
  },
  {
   "cell_type": "markdown",
   "id": "0dc81c2e",
   "metadata": {},
   "source": [
    "### 6. Conclusion"
   ]
  },
  {
   "cell_type": "markdown",
   "id": "f2e9cf69",
   "metadata": {},
   "source": [
    "### 7. Annexes\n",
    "##### 7.1. Glossaire des termes techniques\n",
    "##### 7.2. Références bibliographiques"
   ]
  },
  {
   "cell_type": "markdown",
   "id": "7047559e",
   "metadata": {},
   "source": [
    "### 5. Données de Test\n",
    "Pour répondre à ce probleme nous utiliserons les villes du monde (peut etre reduire) obtenu grace à World City DB , Les temps de trajet , prix du peage seront generé en utilisant l'api"
   ]
  },
  {
   "cell_type": "markdown",
   "id": "3998430a",
   "metadata": {},
   "source": []
  }
 ],
 "metadata": {
  "language_info": {
   "name": "python"
  }
 },
 "nbformat": 4,
 "nbformat_minor": 5
}

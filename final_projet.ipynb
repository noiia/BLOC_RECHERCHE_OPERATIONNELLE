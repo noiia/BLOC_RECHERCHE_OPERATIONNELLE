{
 "cells": [
  {
   "cell_type": "markdown",
   "id": "f2cad482",
   "metadata": {},
   "source": [
    "# Livrable final du projet - Projet Green Graph\n",
    "*Equipe CesiCDP - Chef de projet : Leila | Opérateurs : Tom, Edwin*</br>\n",
    "## Sommaire :\n",
    "    1. Introduction\n",
    "\n",
    "    PARTIE 1 : Modélisation\n",
    "    2. Rappel de la modélisation formelle\n",
    "        2.1. Résumé des hypothèses et représentations\n",
    "        2.2. Justification du maintien de la modélisation\n",
    "    3. Méthodes de résolution\n",
    "        3.1. Choix des algorithmes\n",
    "        3.2. Description des algorithmes \n",
    "        3.3. Complexité des algorithmes \n",
    "\n",
    "    PARTIE 2 : Implémentation et exploitation\n",
    "    4. Implémentation\n",
    "        4.1. Détails de l’implémentation des algorithmes\n",
    "        4.2. Cas de test représentatifs\n",
    "        4.3. Résultats observés sur les tests\n",
    "    5. Étude expérimentale\n",
    "        5.1. Méthodologie du plan d’expérience\n",
    "        5.2. Analyse des performances \n",
    "        5.3. Limites observées\n",
    "        5.4. Perspectives d’amélioration\n",
    "\n",
    "    6. Conclusion\n",
    "\n",
    "    7. Annexes\n",
    "        7.1. Glossaire\n",
    "        7.2. Références bibliographiques\n",
    "        7.3. Annexes techniques "
   ]
  }
 ],
 "metadata": {
  "language_info": {
   "name": "python"
  }
 },
 "nbformat": 4,
 "nbformat_minor": 5
}

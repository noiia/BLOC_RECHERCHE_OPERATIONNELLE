{
 "cells": [
  {
   "cell_type": "markdown",
   "id": "f2cad482",
   "metadata": {},
   "source": [
    "# Livrable final du projet - Projet Green Graph\n",
    "*Equipe CesiCDP - Chef de projet : Leila | Opérateurs : Tom, Edwin*</br>\n",
    "## Sommaire :\n",
    "    1. Introduction\n",
    "    2. Définition du problème \n",
    "        2.1. Description du problème de tournée de livraison\n",
    "        2.2. Contraintes\n",
    "        2.3. Objectifs d’optimisation\n",
    "    3. Modélisation formelle\n",
    "        3.1. Hypothèses générales\n",
    "        3.2. Représentation formelle du réseau\n",
    "        3.3. Présentation des contraintes supplémentaires retenues\n",
    "        3.4. Représentation formelle des contraintes choisies\n",
    "    4. Analyse de la complexité\n",
    "        4.1. Classification du problème\n",
    "        4.2. Impact des contraintes supplémentaires sur la complexité\n",
    "    5. Plan de Travail et Organisation du Projet\n",
    "        5.1. Étapes prévues \n",
    "        5.2. Répartition des tâches dans l’équipe\n",
    "        5.3. Outils utilisés \n",
    "    6. Conclusion\n",
    "    7. Annexes\n",
    "        7.1. Glossaire des termes techniques\n",
    "        7.2. Références bibliographiques"
   ]
  }
 ],
 "metadata": {
  "language_info": {
   "name": "python"
  }
 },
 "nbformat": 4,
 "nbformat_minor": 5
}

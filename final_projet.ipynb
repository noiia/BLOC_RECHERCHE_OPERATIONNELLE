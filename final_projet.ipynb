{
 "cells": [
  {
   "cell_type": "markdown",
   "id": "f2cad482",
   "metadata": {},
   "source": [
    "# Livrable final du projet - Projet Green Graph\n",
    "*Equipe CesiCDP - Chef de projet : Leila | Opérateurs : Tom, Edwin*</br>\n",
    "## Sommaire :\n",
    "    1. Introduction\n",
    "\n",
    "    PARTIE 1 : Modélisation\n",
    "    2. Rappel de la modélisation formelle\n",
    "        2.1. Résumé des hypothèses et représentations\n",
    "        2.2. Justification du maintien de la modélisation\n",
    "    3. Méthodes de résolution\n",
    "        3.1. Choix des algorithmes\n",
    "        3.2. Description des algorithmes \n",
    "        3.3. Complexité des algorithmes \n",
    "\n",
    "    PARTIE 2 : Implémentation et exploitation\n",
    "    4. Implémentation\n",
    "        4.1. Détails de l’implémentation des algorithmes\n",
    "        4.2. Cas de test représentatifs\n",
    "        4.3. Résultats observés sur les tests\n",
    "    5. Étude expérimentale\n",
    "        5.1. Méthodologie du plan d’expérience\n",
    "        5.2. Analyse des performances \n",
    "        5.3. Limites observées\n",
    "        5.4. Perspectives d’amélioration\n",
    "\n",
    "    6. Plan de Travail et Organisation du Projet\n",
    "        6.1. Étapes prévues \n",
    "\n",
    "    7. Conclusion\n",
    "\n",
    "    8. Annexes\n",
    "        8.1. Glossaire\n",
    "        8.2. Références bibliographiques\n",
    "        8.3. Annexes techniques "
   ]
  },
  {
   "cell_type": "markdown",
   "id": "adb7b178",
   "metadata": {},
   "source": [
    "### 1. Introduction\n",
    "Dans la continuité de notre premier livrable, ce document final a pour objectif de présenter l'ensemble de la démarche menée autour du projet Green Graph, de la modélisation initiale à l'évaluation expérimentale des solutions implémentées.\n",
    "\n",
    "Pour rappel, on se questionnait sur comment réduire l’impact environnemental des tournées de livraison tout en optimisant les coûts opérationnels.<br>\n",
    "En modélisant ce problème à partir du **Problème du Voyageur de Commerce (PVC)** complété avec des contraintes réalistes :\n",
    "* **Coût ou restriction de passage sur certaines arêtes :** Certaines routes peuvent être plus coûteuses ou interdites (par exemple, travaux ou routes bloquées),\n",
    "* **Dépendances entre visites :** Une ville ne peut être visitée qu'après en avoir visité une autre (par exemple, une livraison doit précéder une collecte),\n",
    "\n",
    "nous avons pu définir une approche formelle qui répond aux besoins de planification d'un trajet routier réel.\n",
    "\n",
    "\n"
   ]
  },
  {
   "cell_type": "markdown",
   "id": "8ce3cfde",
   "metadata": {},
   "source": [
    "## Partie 1\n",
    "### 2. Rappel de la modélisation formelle\n",
    "##### 2.1. Résumé des hypothèses et représentations\n",
    "##### 2.2. Justification du maintien de la modélisation"
   ]
  },
  {
   "cell_type": "markdown",
   "id": "22f4a807",
   "metadata": {},
   "source": [
    "### 3. Méthodes de résolution\n",
    "##### 3.1. Choix des algorithmes\n",
    "##### 3.2. Description des algorithmes \n",
    "##### 3.3. Complexité des algorithmes \n"
   ]
  },
  {
   "cell_type": "markdown",
   "id": "f7f0a436",
   "metadata": {},
   "source": [
    "\n",
    "### 4. Implémentation\n",
    "##### 4.1. Détails de l’implémentation des algorithmes\n",
    "##### 4.2. Cas de test représentatifs\n",
    "##### 4.3. Résultats observés sur les tests\n"
   ]
  },
  {
   "cell_type": "markdown",
   "id": "49b2a7d1",
   "metadata": {},
   "source": [
    "### 5. Étude expérimentale\n",
    "##### 5.1. Méthodologie du plan d’expérience\n",
    "##### 5.2. Analyse des performances \n",
    "##### 5.3. Limites observées\n",
    "##### 5.4. Perspectives d’amélioration\n"
   ]
  },
  {
   "cell_type": "markdown",
   "id": "c739ce2f",
   "metadata": {},
   "source": [
    "\n",
    "### 6. Plan de Travail et Organisation du Projet\n",
    "##### 6.1. Étapes prévues \n"
   ]
  },
  {
   "cell_type": "markdown",
   "id": "8545b23c",
   "metadata": {},
   "source": [
    "### 7. Conclusion\n"
   ]
  },
  {
   "cell_type": "markdown",
   "id": "1053d7db",
   "metadata": {},
   "source": [
    "### 8. Annexes\n",
    "##### 8.1. Glossaire\n",
    "##### 8.2. Références bibliographiques\n",
    "##### 8.3. Annexes techniques "
   ]
  }
 ],
 "metadata": {
  "language_info": {
   "name": "python"
  }
 },
 "nbformat": 4,
 "nbformat_minor": 5
}

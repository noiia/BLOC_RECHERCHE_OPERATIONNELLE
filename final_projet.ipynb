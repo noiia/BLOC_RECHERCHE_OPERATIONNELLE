{
 "cells": [
  {
   "cell_type": "markdown",
   "id": "f2cad482",
   "metadata": {},
   "source": [
    "# Livrable final du projet - Projet Green Graph\n",
    "*Equipe CesiCDP - Chef de projet : Leila | Opérateurs : Tom, Edwin*</br>\n",
    "## Sommaire :\n",
    "    1. Introduction\n",
    "\n",
    "    PARTIE 1 : Modélisation\n",
    "    2. Rappel de la modélisation formelle\n",
    "        2.1. Résumé des hypothèses et représentations\n",
    "        2.2. Justification du maintien de la modélisation\n",
    "    3. Méthodes de résolution\n",
    "        3.1. Choix des algorithmes\n",
    "        3.2. Description des algorithmes \n",
    "        3.3. Complexité des algorithmes \n",
    "\n",
    "    PARTIE 2 : Implémentation et exploitation\n",
    "    4. Implémentation\n",
    "        4.1. Détails de l’implémentation des algorithmes\n",
    "        4.2. Cas de test représentatifs\n",
    "        4.3. Résultats observés sur les tests\n",
    "    5. Étude expérimentale\n",
    "        5.1. Méthodologie du plan d’expérience\n",
    "        5.2. Analyse des performances \n",
    "        5.3. Limites observées\n",
    "        5.4. Perspectives d’amélioration\n",
    "\n",
    "    6. Plan de Travail et Organisation du Projet\n",
    "        6.1. Étapes prévues \n",
    "\n",
    "    7. Conclusion\n",
    "\n",
    "    8. Annexes\n",
    "        8.1. Glossaire\n",
    "        8.2. Références bibliographiques\n",
    "        8.3. Annexes techniques "
   ]
  },
  {
   "cell_type": "markdown",
   "id": "adb7b178",
   "metadata": {},
   "source": [
    "### 1. Introduction\n",
    "Dans la continuité de notre premier livrable, ce document final a pour objectif de présenter l'ensemble de la démarche menée autour du projet Green Graph, de la modélisation initiale à l'évaluation expérimentale des solutions implémentées.\n",
    "\n",
    "Pour rappel, on se questionnait sur comment réduire l’impact environnemental des tournées de livraison tout en optimisant les coûts opérationnels.<br>\n",
    "En modélisant ce problème à partir du **Problème du Voyageur de Commerce (PVC)** complété avec des contraintes réalistes :\n",
    "* **Coût ou restriction de passage sur certaines arêtes :** Certaines routes peuvent être plus coûteuses ou interdites,\n",
    "* **Dépendances entre visites :** Une ville ne peut être visitée qu'après en avoir visité une autre,\n",
    "\n",
    "nous avons pu définir une approche formelle qui répond aux besoins de planification d'un trajet routier réel.\n",
    "\n",
    "La première partie du projet consiste à modéliser mathématiquement le problème, nous y détaillons également les méthodes de résolution sélectionnées, en mettant en lumière les raisons de nos choix algorithmiques, ainsi que la complexité associée.\n",
    "\n",
    "La seconde partie est dédiée à la mise en œuvre : l’implémentation des algorithmes, les cas de test choisis, et l’analyse des résultats obtenus. Cette étude expérimentale permet d'évaluer la performance des solutions proposées, leurs limitations, et d’ouvrir la voie à de nouvelles perspectives d’amélioration.\n"
   ]
  },
  {
   "cell_type": "markdown",
   "id": "8ce3cfde",
   "metadata": {},
   "source": [
    "## Partie 1\n",
    "### 2. Rappel de la modélisation formelle\n",
    "##### 2.1. Résumé des hypothèses et représentations\n",
    "Pour rappel, notre réseau routié est représenté sous la forme d'un graphe  non orienté $G = (V, E)$, où :\n",
    "* $V = {v_0, v_1, ..., v_n}$ représente les sommets (le dépôt $v_0$ et les points de livraison),\n",
    "* $E$ l’ensemble des arêtes, représentant les routes entre les sommets,\n",
    "* $E_{interdit}$ l'ensemble des routes inaccessible,\n",
    "* $D$ l'ensemble des dépendances entre les villes.\n",
    "\n",
    "Chaque arête $(u, v) \\in E$ est associée à un coût $c_{uv}$ (distance), une variable binaire $x_{uv} \\in \\{0, 1\\}$ indique si l’arête $(u, v)$ est utilisée dans la tournée. Si l'arête $x_{uv} \\in E_{interdit}$, alors $x_{uv}=0$.\n",
    "\n",
    "Chaque élément $d \\in D$ est une paire ordonnée $(v_i, v_j)$ signifiant le sommet $v_i$ doit être visité avant le sommet $v_j$.<br>\n",
    "On note $t_i \\in \\mathbb{N}$, une variable qui représente l’ordre de visite du sommet $v_i$ dans la tournée, pour chaque dépendance $(v_i, v_j) \\in D$ : $t_i<t_j$.\n",
    "\n",
    "On souligne qu'on ne visite chaque sommet $V$ de $G$ exactement une fois et on retourne au point de départ $v_0$, l'objectif est de miniser le coûts total de la tournée en respectant les contraintes soit $\\min \\sum_{(u,v) \\in E} c_{uv} \\cdot x_{uv}$.\n"
   ]
  },
  {
   "cell_type": "code",
   "execution_count": null,
   "id": "cb8336d0",
   "metadata": {},
   "outputs": [],
   "source": [
    "# Installation des bibliothèques\n",
    "%pip install -r requirements.txt"
   ]
  },
  {
   "cell_type": "code",
   "execution_count": 4,
   "id": "f92d6d5d",
   "metadata": {},
   "outputs": [],
   "source": [
    "from geopy.geocoders import Nominatim\n",
    "\n",
    "#Par cette fonction, on convertit le nom des villes en coordonnées GPS (latitude, longitude). \n",
    "def geocode_city(city_name):\n",
    "    geolocator = Nominatim(user_agent=\"routing_app\", timeout=10)\n",
    "    location = geolocator.geocode(city_name,country_codes=\"FR\")\n",
    "    \n",
    "    if location:\n",
    "        return (location.latitude, location.longitude)\n",
    "    else:\n",
    "        return None, None"
   ]
  },
  {
   "cell_type": "code",
   "execution_count": null,
   "id": "f7465143",
   "metadata": {},
   "outputs": [
    {
     "name": "stderr",
     "output_type": "stream",
     "text": [
      "100%|██████████| 10/10 [00:09<00:00,  1.05it/s]\n"
     ]
    }
   ],
   "source": [
    "import pandas as pd\n",
    "import random\n",
    "from tqdm import tqdm\n",
    "\n",
    "# Cette fonction permet de lire un fichier CSV contenant des noms de villes,\n",
    "# sélectionne aléatoirement un nombre spécifié de villes (défini par l'argument 'size'),\n",
    "# puis de récuperer les coordonnées géographiques de ces villes grace à la fonction geocode_city.\n",
    "# Si les coordonnées sont valides, elles sont ajoutées dans un dictionnaire 'city_map',\n",
    "# où la clé est le nom de la ville et la valeur est un tuple contenant la latitude et la longitude.\n",
    "def GenerateCityMapFromCSV(size):\n",
    "    city_map = {} \n",
    "    df = pd.read_csv(\"CityName.csv\", on_bad_lines='skip')\n",
    "    city_list = df['City'].dropna().tolist()\n",
    "    city_list = random.sample(city_list, size)\n",
    "    for city in tqdm(city_list):\n",
    "        lat, lon = geocode_city(city) \n",
    "        if  (lat or lon) is not None:\n",
    "            city_map[city] = (lat,lon)\n",
    "    return city_map\n",
    "\n",
    "Cities = GenerateCityMapFromCSV(10)"
   ]
  },
  {
   "cell_type": "markdown",
   "id": "71e90dc3",
   "metadata": {},
   "source": [
    "\n",
    "##### 2.2. Justification du maintien de la modélisation\n",
    "Après vérification, aucune modification n’a donc été nécessaire dans la structure mathématique pour répondre aux objectifs du projet. Nous avons décidé de conserver la structure et les représentations formelles définies dans le livrable précédent.\n",
    "\n",
    "Cette modélisation s'est révélée suffisamment expressive pour prendre en compte l'ensemble des contraintes que nous souhaitons intégrer au problème.<br>\n",
    "De plus, notre problème est basé sur le **problème du voyageur du commerce (TSP)**, bien que nous avons démontré que ce problème est difficile (NP-complet), il est applicable à d'autres problèmes de logistique.\n"
   ]
  },
  {
   "cell_type": "markdown",
   "id": "22f4a807",
   "metadata": {},
   "source": [
    "### 3. Méthodes de résolution\n",
    "##### 3.1. Choix des algorithmes\n",
    "##### 3.2. Description des algorithmes \n",
    "##### 3.3. Complexité des algorithmes \n"
   ]
  },
  {
   "cell_type": "markdown",
   "id": "f7f0a436",
   "metadata": {},
   "source": [
    "\n",
    "### 4. Implémentation\n",
    "##### 4.1. Détails de l’implémentation des algorithmes\n",
    "##### 4.2. Cas de test représentatifs\n",
    "##### 4.3. Résultats observés sur les tests\n"
   ]
  },
  {
   "cell_type": "markdown",
   "id": "49b2a7d1",
   "metadata": {},
   "source": [
    "### 5. Étude expérimentale\n",
    "##### 5.1. Méthodologie du plan d’expérience\n",
    "##### 5.2. Analyse des performances \n",
    "##### 5.3. Limites observées\n",
    "##### 5.4. Perspectives d’amélioration\n"
   ]
  },
  {
   "cell_type": "markdown",
   "id": "c739ce2f",
   "metadata": {},
   "source": [
    "\n",
    "### 6. Plan de Travail et Organisation du Projet\n",
    "##### 6.1. Étapes prévues \n"
   ]
  },
  {
   "cell_type": "markdown",
   "id": "8545b23c",
   "metadata": {},
   "source": [
    "### 7. Conclusion\n"
   ]
  },
  {
   "cell_type": "markdown",
   "id": "1053d7db",
   "metadata": {},
   "source": [
    "### 8. Annexes\n",
    "##### 8.1. Glossaire\n",
    "##### 8.2. Références bibliographiques\n",
    "##### 8.3. Annexes techniques "
   ]
  }
 ],
 "metadata": {
  "kernelspec": {
   "display_name": "Python 3",
   "language": "python",
   "name": "python3"
  },
  "language_info": {
   "codemirror_mode": {
    "name": "ipython",
    "version": 3
   },
   "file_extension": ".py",
   "mimetype": "text/x-python",
   "name": "python",
   "nbconvert_exporter": "python",
   "pygments_lexer": "ipython3",
   "version": "3.11.9"
  }
 },
 "nbformat": 4,
 "nbformat_minor": 5
}
